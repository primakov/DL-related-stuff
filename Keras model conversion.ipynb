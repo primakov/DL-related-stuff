{
 "cells": [
  {
   "cell_type": "markdown",
   "metadata": {},
   "source": [
    "# Keras multi-gpu model to regular model weights/checkpoints conversion"
   ]
  },
  {
   "cell_type": "code",
   "execution_count": null,
   "metadata": {},
   "outputs": [],
   "source": [
    "#select/lock gpus\n",
    "import os\n",
    "os.environ[\"CUDA_DEVICE_ORDER\"] = \"PCI_BUS_ID\"  \n",
    "os.environ['CUDA_VISIBLE_DEVICES']='0,1,2,3,4,5,6,7'\n",
    "import tensorflow as tf\n",
    "import keras.backend as K\n",
    "import keras\n",
    "#Check availableGPUs\n",
    "K.tensorflow_backend._get_available_gpus()"
   ]
  },
  {
   "cell_type": "code",
   "execution_count": null,
   "metadata": {},
   "outputs": [],
   "source": [
    "#Script below transfers weights from keras multi-gpu model to keras cpu model"
   ]
  },
  {
   "cell_type": "code",
   "execution_count": null,
   "metadata": {
    "scrolled": true
   },
   "outputs": [],
   "source": [
    "def keras_model_reassign_weights(model_cpu,model_gpu):\n",
    "    weights_temp ={}\n",
    "    print('_'*5,'Collecting weights from GPU model','_'*5)\n",
    "    for layer in model_gpu.layers:\n",
    "        try:\n",
    "            for layer_unw in layer.layers:\n",
    "                #print('Weights extracted for: ',layer_unw.name)\n",
    "                weights_temp[layer_unw.name] = layer_unw.get_weights()\n",
    "            break\n",
    "        except:\n",
    "            print('Skipped: ',layer.name)\n",
    "    print('_'*5,'Writing weights to CPU model','_'*5)\n",
    "    for layer in model_cpu.layers:\n",
    "        try:\n",
    "            layer.set_weights(weights_temp[layer.name])\n",
    "            #print(layer.name,'Done!')\n",
    "        except:\n",
    "            print(layer.name,'weights does not set for this layer!')\n",
    "    return model_cpu"
   ]
  },
  {
   "cell_type": "code",
   "execution_count": null,
   "metadata": {},
   "outputs": [],
   "source": [
    "#load or initialize your keras multi-gpu model\n",
    "model_gpu = None \n",
    "#load or initialize your keras model with the same structure, without using keras.multi_gpu function\n",
    "model_cpu = None \n",
    "#load weights into multigpu model\n",
    "model_gpu.load_weights(r'gpu_model_best_checkpoint.hdf5') \n",
    "#execute function\n",
    "model_cpu = keras_model_reassign_weights(model_cpu,model_gpu)\n",
    "#save obtained weights for cpu model\n",
    "model_cpu.save_weights(r'CPU_model.hdf5')   "
   ]
  },
  {
   "cell_type": "code",
   "execution_count": null,
   "metadata": {},
   "outputs": [],
   "source": []
  }
 ],
 "metadata": {
  "kernelspec": {
   "display_name": "Python 3",
   "language": "python",
   "name": "python3"
  },
  "language_info": {
   "codemirror_mode": {
    "name": "ipython",
    "version": 3
   },
   "file_extension": ".py",
   "mimetype": "text/x-python",
   "name": "python",
   "nbconvert_exporter": "python",
   "pygments_lexer": "ipython3",
   "version": "3.6.6"
  }
 },
 "nbformat": 4,
 "nbformat_minor": 2
}
